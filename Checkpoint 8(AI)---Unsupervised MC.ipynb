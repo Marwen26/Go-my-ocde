{
 "cells": [
  {
   "cell_type": "code",
   "execution_count": null,
   "id": "a94ad7f8",
   "metadata": {},
   "outputs": [],
   "source": [
    "import pandas as pd\n",
    "from sklearn.cluster import AgglomerativeClustering\n",
    "import matplotlib.pyplot as plt\n",
    "import matplotlib.pyplot as plt\n",
    "import scipy.cluster.hierarchy as shc\n",
    "from sklearn.cluster import KMeans \n",
    "from scipy.cluster.hierarchy import dendrogram, linkage"
   ]
  },
  {
   "cell_type": "code",
   "execution_count": null,
   "id": "383904cd",
   "metadata": {},
   "outputs": [],
   "source": [
    "df = pd.read_csv(\"GENERAL.csv\")\n",
    "# Fill the missing values\n",
    "df[\"CREDIT_LIMIT\"].fillna(df[\"CREDIT_LIMIT\"].mean(),inplace = True)\n",
    "df[\"MINIMUM_PAYMENTS\"].fillna(df[\"MINIMUM_PAYMENTS\"].mean(),inplace = True)\n",
    "\n",
    "df['CUST_ID'] = df['CUST_ID'].str.replace('C', '')"
   ]
  },
  {
   "cell_type": "code",
   "execution_count": null,
   "id": "e9a4a87e",
   "metadata": {},
   "outputs": [],
   "source": [
    "model=AgglomerativeClustering(n_clusters = 5, affinity = 'euclidean', linkage = 'complete')\n",
    "clust_labels=model.fit_predict(df)  \n",
    "\n",
    "agglomerative=pd.DataFrame(clust_labels)\n",
    "agglomerative.tail()"
   ]
  },
  {
   "cell_type": "code",
   "execution_count": null,
   "id": "e8c203bf",
   "metadata": {},
   "outputs": [],
   "source": [
    "fig = plt.figure()\n",
    "ax = fig.add_subplot(111)\n",
    "scatter = ax.scatter (df['BALANCE'] , df[\"CASH_ADVANCE\"] , c= agglomerative[0], s=50)\n",
    "ax.set_title(\"customer segmentation\")\n",
    "ax.set_xlabel(\"BALANCE\")\n",
    "ax.set_ylabel(\"CASH_ADVANCE\")\n",
    "plt.colorbar(scatter)"
   ]
  },
  {
   "cell_type": "code",
   "execution_count": null,
   "id": "06f3265c",
   "metadata": {},
   "outputs": [],
   "source": [
    "k_means = KMeans(n_clusters=5, random_state=0)  \n",
    "k_means.fit(df)\n",
    "den = linkage(k_means.cluster_centers_, 'ward')\n",
    "# Plot the dendrogram\n",
    "dendrogram(den)"
   ]
  },
  {
   "cell_type": "code",
   "execution_count": null,
   "id": "adaf99fc",
   "metadata": {},
   "outputs": [],
   "source": [
    "Sum = []\n",
    "k = range(1,20)\n",
    "for k in k :\n",
    "    km = KMeans(n_clusters = k)\n",
    "    km = km.fit(df)\n",
    "    Sum.append(km.inertia_)"
   ]
  },
  {
   "cell_type": "code",
   "execution_count": null,
   "id": "b939ecc4",
   "metadata": {},
   "outputs": [],
   "source": [
    "plt.plot(k,Sum,\"bx\")\n",
    "plt.xlabel('k')\n",
    "plt.ylabel('Sum')\n",
    "plt.title(\"Elbow method\")\n",
    "plt.show()"
   ]
  }
 ],
 "metadata": {
  "kernelspec": {
   "display_name": "Python 3 (ipykernel)",
   "language": "python",
   "name": "python3"
  },
  "language_info": {
   "codemirror_mode": {
    "name": "ipython",
    "version": 3
   },
   "file_extension": ".py",
   "mimetype": "text/x-python",
   "name": "python",
   "nbconvert_exporter": "python",
   "pygments_lexer": "ipython3",
   "version": "3.9.13"
  }
 },
 "nbformat": 4,
 "nbformat_minor": 5
}
