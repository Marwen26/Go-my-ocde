{
 "cells": [
  {
   "cell_type": "code",
   "execution_count": null,
   "id": "8b8ce2e1",
   "metadata": {},
   "outputs": [],
   "source": [
    "# 1 : read an entire text file\n",
    "\n",
    "F = open(\"python.txt\",\"r\")            # r : Opens a file for reading\n",
    "#print(F.read())\n",
    "F.close()"
   ]
  },
  {
   "cell_type": "code",
   "execution_count": null,
   "id": "4637556c",
   "metadata": {},
   "outputs": [],
   "source": [
    "# 2 : read the first n lines of a file\n",
    "\n",
    "print(\"The first line from the text file :\")\n",
    "print(F.readline())                   # readline : read the first line from the text file\n",
    "F.close()"
   ]
  },
  {
   "cell_type": "code",
   "execution_count": null,
   "id": "8ca35b00",
   "metadata": {},
   "outputs": [],
   "source": [
    "# 3 : read the last n lines of a file\n",
    "\n",
    "F = open(\"python.txt\",\"r\") \n",
    "print(\"The last line from the text file :\")\n",
    "print(F.readlines()[-1])\n",
    "F.close()"
   ]
  },
  {
   "cell_type": "code",
   "execution_count": 6,
   "id": "3e368cc9",
   "metadata": {},
   "outputs": [
    {
     "name": "stdout",
     "output_type": "stream",
     "text": [
      "Number of words : 66\n"
     ]
    }
   ],
   "source": [
    "# 4 : Write a Python program that takes a text file as input and returns the number of words of a given text file\n",
    "\n",
    "F = open(\"Chekpoint_files.txt\",'r')\n",
    "N_W = 0\n",
    "# for loop to read the file line by line\n",
    "for i in F :\n",
    "    w = i.split()          \n",
    "    N_W += len(w)\n",
    "F.close()\n",
    "print(\"Number of words :\", N_W)"
   ]
  },
  {
   "cell_type": "code",
   "execution_count": 8,
   "id": "e2aed9a3",
   "metadata": {},
   "outputs": [
    {
     "name": "stdout",
     "output_type": "stream",
     "text": [
      "The last line from the text file :\n",
      "We can read the text.txt file we wrote in the above section in the following way\n"
     ]
    }
   ],
   "source": [
    "# 5 :  (Bonus) Write a Python program to read the last n lines of a file\n",
    "\n",
    "F = open(\"Chekpoint_files.txt\",\"r\") \n",
    "print(\"The last line from the text file :\")\n",
    "print(F.readlines()[-1])\n",
    "F.close()"
   ]
  },
  {
   "cell_type": "code",
   "execution_count": null,
   "id": "a16fb62c",
   "metadata": {},
   "outputs": [],
   "source": []
  }
 ],
 "metadata": {
  "kernelspec": {
   "display_name": "Python 3 (ipykernel)",
   "language": "python",
   "name": "python3"
  },
  "language_info": {
   "codemirror_mode": {
    "name": "ipython",
    "version": 3
   },
   "file_extension": ".py",
   "mimetype": "text/x-python",
   "name": "python",
   "nbconvert_exporter": "python",
   "pygments_lexer": "ipython3",
   "version": "3.9.12"
  }
 },
 "nbformat": 4,
 "nbformat_minor": 5
}
