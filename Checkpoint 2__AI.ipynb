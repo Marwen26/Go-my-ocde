{
 "cells": [
  {
   "cell_type": "code",
   "execution_count": null,
   "id": "55bb8a70",
   "metadata": {},
   "outputs": [],
   "source": [
    "# Question 1  : Numbers which are divisible by 7 but are not a multiple of 5, between 2000 and 3200 (both included). \n",
    "# The numbers obtained should be printed in a list\n",
    "numb = []\n",
    "for i in range (2000,3201):\n",
    "    if i % 7 == 0 and i %5 != 0 :\n",
    "        numb.append(i)\n",
    "print(numb)"
   ]
  },
  {
   "cell_type": "code",
   "execution_count": null,
   "id": "b8ad3d16",
   "metadata": {},
   "outputs": [],
   "source": [
    "# Question 2 :  Write a program that can compute the factorial of a given number.\n",
    "n = int (input(\"Put number her : \"))\n",
    "def fact (numb):\n",
    "    if numb == 0:\n",
    "        return 1\n",
    "    return numb * fact(numb-1)\n",
    "f = fact (n)\n",
    "print(\"The factorial of\",n ,\"is\",f)"
   ]
  },
  {
   "cell_type": "code",
   "execution_count": 23,
   "id": "78beb058",
   "metadata": {},
   "outputs": [
    {
     "name": "stdout",
     "output_type": "stream",
     "text": [
      "Enter an integer number: 5\n",
      "{1: 1, 2: 4, 3: 9, 4: 16, 5: 25}\n"
     ]
    }
   ],
   "source": [
    "# Question 3 :  With a given integer number n, write a program to generate a dictionary that contains (i, i*i) such that \n",
    "# is an integral number between 1 and n (both included). Then, the program should print the dictionary\n",
    "def gen(n):\n",
    "    return {i: i*i for i in range(1, n+1)}\n",
    "nmb = int(input(\"Enter an integer number: \"))\n",
    "print(gen(nmb))"
   ]
  },
  {
   "cell_type": "code",
   "execution_count": 22,
   "id": "684e0a9e",
   "metadata": {},
   "outputs": [
    {
     "name": "stdout",
     "output_type": "stream",
     "text": [
      "enter a word :kitten\n",
      "enter a number :1\n"
     ]
    },
    {
     "data": {
      "text/plain": [
       "'ktten'"
      ]
     },
     "execution_count": 22,
     "metadata": {},
     "output_type": "execute_result"
    }
   ],
   "source": [
    "# Question 4 : Given a non-empty string and an integral n, return a new string where the char at index n has been removed. \n",
    "# The value of n will be a valid index of a char in the original string (i.e. n will be in the range 0..len(str)-1 inclusive).\n",
    "\n",
    "word = str(input(\"enter a word :\"))\n",
    "n = int(input(\"enter a number :\"))\n",
    "l = []\n",
    "# if the user put number bigger than len of  word\n",
    "if n > len(word):\n",
    "    print(\"the number must be smaller than\",len(word))\n",
    "# function remove \n",
    "def rem (word,n):\n",
    "    return word[:n]+ word[n+1:]\n",
    "rem(word,n)"
   ]
  },
  {
   "cell_type": "code",
   "execution_count": 20,
   "id": "bd47244d",
   "metadata": {},
   "outputs": [
    {
     "name": "stdout",
     "output_type": "stream",
     "text": [
      "Numpy array :\n",
      "[[0 1 2]\n",
      " [3 4 5]\n",
      " [6 7 8]]\n",
      "New list :\n",
      "[[0, 1, 2], [3, 4, 5], [6, 7, 8]]\n"
     ]
    }
   ],
   "source": [
    "# Question 5 : Write a NumPy program to convert a NumPy array into a Python list structure\n",
    "\n",
    "import numpy as np\n",
    "\n",
    "n = np.array([[0,1,2],[3,4,5],[6,7,8]])\n",
    "print(\"Numpy array :\")\n",
    "print(n)\n",
    "\n",
    "# conver from numpy array to a list\n",
    "l = n.tolist()\n",
    "print(\"New list :\")\n",
    "print(l)"
   ]
  },
  {
   "cell_type": "code",
   "execution_count": 4,
   "id": "2f2a2c0c",
   "metadata": {},
   "outputs": [
    {
     "name": "stdout",
     "output_type": "stream",
     "text": [
      "[[ 1. -1.]\n",
      " [-1.  1.]]\n"
     ]
    }
   ],
   "source": [
    "# Question 6 : Write a NumPy program to compute the covariance matrix of two given arrays.\n",
    "\n",
    "import numpy as np\n",
    "array_1 = np.array([0,1,2]) \n",
    "array_2 = np.array([2,1,0])\n",
    "cov = np.cov(array_1,array_2)\n",
    "print(cov)\n"
   ]
  },
  {
   "cell_type": "code",
   "execution_count": 21,
   "id": "b7047e52",
   "metadata": {},
   "outputs": [
    {
     "name": "stdout",
     "output_type": "stream",
     "text": [
      "Enter a list of number:100 150 180\n",
      "18\n",
      "22\n",
      "24\n"
     ]
    }
   ],
   "source": [
    "# Question 7 : Write a program that calculates and prints the value according to the given formula:\n",
    "# Q= Square root of [(2 * C * D)/H] The following are the fixed values of C and H: C is 50. H is 30. \n",
    "\n",
    "from math import sqrt\n",
    "D=input('Enter a list of number:')\n",
    "liste=D.split()\n",
    "D = liste\n",
    "\n",
    "C=50\n",
    "H=30\n",
    "def formule (C,D,H):\n",
    "    return sqrt((2*C*int(D))//H)\n",
    "def cal(D,C,H) :\n",
    "    for i in range (0,len(D)):\n",
    "        print (int((formule(C,D[i],H))))\n",
    "cal(D,C,H)\n"
   ]
  },
  {
   "cell_type": "code",
   "execution_count": null,
   "id": "a9cf456e",
   "metadata": {},
   "outputs": [],
   "source": []
  }
 ],
 "metadata": {
  "kernelspec": {
   "display_name": "Python 3 (ipykernel)",
   "language": "python",
   "name": "python3"
  },
  "language_info": {
   "codemirror_mode": {
    "name": "ipython",
    "version": 3
   },
   "file_extension": ".py",
   "mimetype": "text/x-python",
   "name": "python",
   "nbconvert_exporter": "python",
   "pygments_lexer": "ipython3",
   "version": "3.9.13"
  }
 },
 "nbformat": 4,
 "nbformat_minor": 5
}
