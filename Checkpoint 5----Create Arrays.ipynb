{
 "cells": [
  {
   "cell_type": "code",
   "execution_count": null,
   "id": "f1e1bb95",
   "metadata": {},
   "outputs": [],
   "source": [
    "#Checkpoint 4==>Let's build create arrays\n",
    "#Question 1:\n",
    "import numpy as np\n",
    "NA=np.array([1,2,3,4,5,6,7,8])\n",
    "print(NA)\n",
    "List=NA.tolist()\n",
    "print(List)"
   ]
  },
  {
   "cell_type": "code",
   "execution_count": null,
   "id": "152bb7a3",
   "metadata": {},
   "outputs": [],
   "source": [
    "#Question 2:\n",
    "import numpy as np \n",
    "A1=np.array([[0,1,2],[3,4,5],[6,7,8]])\n",
    "print(A1)\n",
    "S=np.trace(A1)\n",
    "print(\"The sum of the diagonal elements is:\",S)"
   ]
  },
  {
   "cell_type": "code",
   "execution_count": null,
   "id": "b0880e1c",
   "metadata": {},
   "outputs": [],
   "source": [
    "#Question 3:\n",
    "import numpy as np\n",
    "A2=np.array([[5,6],[2,3],[1,8],[6,4]])\n",
    "X=int(input(\"Enter a number her:\"))\n",
    "for i in range (4):\n",
    "    for j in range (2): \n",
    "        if X<A2[i][j]:\n",
    "            print(\"Numbers higher than\",X,\"are\",A2[i][j])"
   ]
  },
  {
   "cell_type": "code",
   "execution_count": null,
   "id": "90bd9d2b",
   "metadata": {},
   "outputs": [],
   "source": [
    "#Question 4:\n",
    "#with function\n",
    "import numpy as np\n",
    "A=np.array([[1,3],[2,4],[5,7],[8,10]])\n",
    "B=np.array([[1,4],[2,5],[3,6],[7,9]])\n",
    "C=np.add(A,B)\n",
    "print(C)"
   ]
  },
  {
   "cell_type": "code",
   "execution_count": null,
   "id": "4ad1b301",
   "metadata": {},
   "outputs": [],
   "source": [
    "#Question 4:\n",
    "#without function with hand:\n",
    "import numpy as np\n",
    "A=np.array([[1,3],[2,4],[5,7],[8,10]])\n",
    "B=np.array([[1,4],[2,5],[3,6],[7,9]])\n",
    "for i in range (4):\n",
    "    for j in range(2):\n",
    "        C=np.array(A[i]+B[i])\n",
    "    print(C)"
   ]
  },
  {
   "cell_type": "code",
   "execution_count": null,
   "id": "0a4d1136",
   "metadata": {},
   "outputs": [],
   "source": [
    "#Question 5:\n",
    "import numpy as np\n",
    "M=np.array([[1,3],[2,4],[5,7],[8,10]])\n",
    "np.mean(M)"
   ]
  }
 ],
 "metadata": {
  "kernelspec": {
   "display_name": "Python 3 (ipykernel)",
   "language": "python",
   "name": "python3"
  },
  "language_info": {
   "codemirror_mode": {
    "name": "ipython",
    "version": 3
   },
   "file_extension": ".py",
   "mimetype": "text/x-python",
   "name": "python",
   "nbconvert_exporter": "python",
   "pygments_lexer": "ipython3",
   "version": "3.9.12"
  }
 },
 "nbformat": 4,
 "nbformat_minor": 5
}
