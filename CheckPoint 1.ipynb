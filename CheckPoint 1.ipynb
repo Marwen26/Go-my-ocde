{
 "cells": [
  {
   "cell_type": "code",
   "execution_count": null,
   "id": "3e039f12",
   "metadata": {},
   "outputs": [],
   "source": [
    "FN=input(\"Put your name her  \")\n",
    "LN=input(\"put your last name her \")\n",
    "print(LN,\"\",FN)"
   ]
  },
  {
   "cell_type": "code",
   "execution_count": null,
   "id": "ce54f0b6",
   "metadata": {},
   "outputs": [],
   "source": [
    "n=int(input(\"put a number her:\"))\n",
    "n1=int(n+(n*10))\n",
    "n2=int(n1+(n*100)+n)-n\n",
    "print(n+n1+n2)"
   ]
  },
  {
   "cell_type": "code",
   "execution_count": null,
   "id": "e92d5648",
   "metadata": {},
   "outputs": [],
   "source": [
    "n = int(input(\"Put your number her: \"))\n",
    "nb = n % 2\n",
    "if nb > 0:\n",
    "    print(\"This is an odd number.\")\n",
    "else:\n",
    "    print(\"This is an even number.\")"
   ]
  },
  {
   "cell_type": "code",
   "execution_count": null,
   "id": "824b6a87",
   "metadata": {},
   "outputs": [],
   "source": [
    "for x in range(2000,3200):\n",
    "    if(x%7==0)and(x%5!=0):\n",
    "        print(x)"
   ]
  },
  {
   "cell_type": "code",
   "execution_count": null,
   "id": "00d369e3",
   "metadata": {},
   "outputs": [],
   "source": [
    "x=str(input(\"Put a word her:\"))\n",
    "for i in range(len(x)):\n",
    "    if i % 2 == 0:\n",
    "     print(x[i],end='')"
   ]
  },
  {
   "cell_type": "code",
   "execution_count": null,
   "id": "2e4c13b3",
   "metadata": {},
   "outputs": [],
   "source": [
    "P=int(input(\"Pute the price her:\"))\n",
    "if P>=500:\n",
    "    P=P/2\n",
    "    print(\"Discount is 50%:\",P)\n",
    "elif P in range (200,499):\n",
    "        P=P*0.3\n",
    "        print(\"Discount is 30%:\",P)\n",
    "else:\n",
    "        P=P*0.1\n",
    "        print(\"Discount is 10%:\",P)"
   ]
  }
 ],
 "metadata": {
  "kernelspec": {
   "display_name": "Python 3 (ipykernel)",
   "language": "python",
   "name": "python3"
  },
  "language_info": {
   "codemirror_mode": {
    "name": "ipython",
    "version": 3
   },
   "file_extension": ".py",
   "mimetype": "text/x-python",
   "name": "python",
   "nbconvert_exporter": "python",
   "pygments_lexer": "ipython3",
   "version": "3.9.12"
  }
 },
 "nbformat": 4,
 "nbformat_minor": 5
}
