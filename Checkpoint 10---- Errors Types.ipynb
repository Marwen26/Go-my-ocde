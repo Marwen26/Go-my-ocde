{
 "cells": [
  {
   "cell_type": "code",
   "execution_count": null,
   "id": "a62e5ac7",
   "metadata": {},
   "outputs": [],
   "source": [
    "# index error :\n",
    "\n",
    "# mylist=[14, \"hello\", 967]     \n",
    "# mylist[6]\n",
    "# no index [6] there is only 2 [0,1,2]\n",
    "\n",
    "mylist=[14, \"hello\", 967]\n",
    "mylist[2]"
   ]
  },
  {
   "cell_type": "code",
   "execution_count": null,
   "id": "7f4f7764",
   "metadata": {},
   "outputs": [],
   "source": [
    "# import Pandas   \n",
    "# import NumPy    \n",
    "\n",
    "import pandas as pd\n",
    "import numpy as np"
   ]
  },
  {
   "cell_type": "code",
   "execution_count": null,
   "id": "b0440ca2",
   "metadata": {},
   "outputs": [],
   "source": [
    "# syntax error :\n",
    "\n",
    "# Print\"python errors\"\n",
    "\n",
    "print(\"python errors\")"
   ]
  },
  {
   "cell_type": "code",
   "execution_count": null,
   "id": "04e9ab5b",
   "metadata": {},
   "outputs": [],
   "source": [
    "# key error :\n",
    "\n",
    "# mydictionnary={True:\"hello\",False:\"bye\", '3':\"python\"}\n",
    "# mydictionnary['True']\n",
    "\n",
    "# keys never be a boolean \n",
    "\n",
    "mydictionnary={'hello':True,\"bye\":False, '3':\"python\"}\n",
    "mydictionnary['hello']"
   ]
  },
  {
   "cell_type": "code",
   "execution_count": null,
   "id": "2c9c5bdc",
   "metadata": {},
   "outputs": [],
   "source": [
    "# indentation error:\n",
    "\n",
    "# i=14\n",
    "# while i<78:\n",
    "# print(i)\n",
    "# i+=1\n",
    "# there is no indentation after the while loop:\n",
    "i=14\n",
    "while i<78:\n",
    "    print(i)\n",
    "    i+=1"
   ]
  },
  {
   "cell_type": "code",
   "execution_count": null,
   "id": "c6a62cd5",
   "metadata": {},
   "outputs": [],
   "source": [
    "# StopIteration :\n",
    "\n",
    "# it=iter([1,2,3])\n",
    "# next(it)\n",
    "# next(it)\n",
    "# next(it)\n",
    "# next(it)\n",
    "# there is only 3 items and he call it 4 times\n",
    "\n",
    "it=iter([1,2,3])\n",
    "next(it)\n",
    "next(it)\n",
    "next(it)"
   ]
  },
  {
   "cell_type": "code",
   "execution_count": 1,
   "id": "bd53b253",
   "metadata": {},
   "outputs": [
    {
     "data": {
      "text/plain": [
       "30"
      ]
     },
     "execution_count": 1,
     "metadata": {},
     "output_type": "execute_result"
    }
   ],
   "source": [
    "#TypeError:\n",
    "#'15'+15\n",
    "# str + int (false)\n",
    "\n",
    "15+15"
   ]
  },
  {
   "cell_type": "code",
   "execution_count": null,
   "id": "bd67c66e",
   "metadata": {},
   "outputs": [],
   "source": [
    "# ValueError\n",
    "# int = (\"python\")\n",
    "int = (50)"
   ]
  },
  {
   "cell_type": "code",
   "execution_count": null,
   "id": "54a7f199",
   "metadata": {},
   "outputs": [],
   "source": [
    "# NameError:\n",
    "# Python\n",
    "# no variable take python\n",
    "\n",
    "P = Python"
   ]
  },
  {
   "cell_type": "code",
   "execution_count": null,
   "id": "9cee140f",
   "metadata": {},
   "outputs": [],
   "source": [
    "# ZeroDivisionError\n",
    "#x = 19 / 0 \n",
    "# no division on 0\n",
    "\n",
    "x = 19 / 2\n"
   ]
  }
 ],
 "metadata": {
  "kernelspec": {
   "display_name": "Python 3 (ipykernel)",
   "language": "python",
   "name": "python3"
  },
  "language_info": {
   "codemirror_mode": {
    "name": "ipython",
    "version": 3
   },
   "file_extension": ".py",
   "mimetype": "text/x-python",
   "name": "python",
   "nbconvert_exporter": "python",
   "pygments_lexer": "ipython3",
   "version": "3.9.12"
  }
 },
 "nbformat": 4,
 "nbformat_minor": 5
}
