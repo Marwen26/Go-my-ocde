{
 "cells": [
  {
   "cell_type": "code",
   "execution_count": null,
   "id": "d7c990b0",
   "metadata": {},
   "outputs": [],
   "source": [
    "import mlxtend\n",
    "import pandas as pd\n",
    "from mlxtend.preprocessing import TransactionEncoder\n",
    "from mlxtend.frequent_patterns import apriori\n",
    "from mlxtend.frequent_patterns import association_rules\n",
    "\n",
    "dataset = [['Skirt', 'Sneakers', 'Scarf', 'Pants', 'Hat'],\n",
    "           ['Sunglasses', 'Skirt', 'Sneakers', 'Pants', 'Hat'],\n",
    "           ['Dress', 'Sandals', 'Scarf', 'Pants', 'Heels'],\n",
    "           ['Dress', 'Necklace', 'Earrings', 'Scarf', 'Hat', 'Heels', 'Hat'],\n",
    "           ['Earrings', 'Skirt', 'Skirt', 'Scarf', 'Shirt', 'Pants']]\n",
    "\n",
    "# convert the dataset into a transactional database\n",
    "te = TransactionEncoder()\n",
    "te_ary = te.fit(dataset).transform(dataset)\n",
    "df = pd.DataFrame(te_ary, columns=te.columns_)\n",
    "df\n"
   ]
  },
  {
   "cell_type": "code",
   "execution_count": null,
   "id": "a770a6cd",
   "metadata": {},
   "outputs": [],
   "source": [
    "# find frequent itemsets with minimum support of 0.6\n",
    "apriori(df, min_support = 0.6, use_colnames=True)"
   ]
  },
  {
   "cell_type": "code",
   "execution_count": null,
   "id": "77749e2c",
   "metadata": {},
   "outputs": [],
   "source": [
    "frequent_itemsets=apriori(df, min_support=0.6, use_colnames=True) #Instead of column indices we can use column names.\n",
    "frequent_itemsets"
   ]
  },
  {
   "cell_type": "code",
   "execution_count": null,
   "id": "5e95a570",
   "metadata": {},
   "outputs": [],
   "source": [
    "association_rules(frequent_itemsets,metric=\"confidence\",min_threshold=0.5) # associate itemsets with confidence over 50%."
   ]
  },
  {
   "cell_type": "markdown",
   "id": "fd73f8f7",
   "metadata": {},
   "source": [
    "The same checkpoint but with a bigger dataset"
   ]
  },
  {
   "cell_type": "code",
   "execution_count": null,
   "id": "0e841bf4",
   "metadata": {},
   "outputs": [],
   "source": [
    "import mlxtend\n",
    "import pandas as pd\n",
    "from mlxtend.preprocessing import TransactionEncoder\n",
    "from mlxtend.frequent_patterns import apriori\n",
    "from mlxtend.frequent_patterns import association_rules\n",
    "\n",
    "df = pd.read_csv(\"Market.csv\")\n"
   ]
  },
  {
   "cell_type": "code",
   "execution_count": null,
   "id": "e72ab2d8",
   "metadata": {},
   "outputs": [],
   "source": [
    "te = TransactionEncoder()\n",
    "te_ary = te.fit(df).transform(df)\n",
    "df = pd.DataFrame(te_ary, columns = te.columns_)\n",
    "df"
   ]
  },
  {
   "cell_type": "code",
   "execution_count": null,
   "id": "5adb7bd1",
   "metadata": {},
   "outputs": [],
   "source": [
    "# find frequent itemsets with minimum support of 0.9\n",
    "apriori(df, min_support = 0.9, use_colnames=True)"
   ]
  },
  {
   "cell_type": "code",
   "execution_count": null,
   "id": "4107df11",
   "metadata": {},
   "outputs": [],
   "source": [
    "frequent_itemsets=apriori(df, min_support=0.6, use_colnames=True) #Instead of column indices we can use column names.\n",
    "frequent_itemsets"
   ]
  },
  {
   "cell_type": "code",
   "execution_count": null,
   "id": "7d493f12",
   "metadata": {},
   "outputs": [],
   "source": [
    "association_rules(frequent_itemsets,metric=\"confidence\",min_threshold=0.6) # associate itemsets with confidence over 60%."
   ]
  }
 ],
 "metadata": {
  "kernelspec": {
   "display_name": "Python 3 (ipykernel)",
   "language": "python",
   "name": "python3"
  },
  "language_info": {
   "codemirror_mode": {
    "name": "ipython",
    "version": 3
   },
   "file_extension": ".py",
   "mimetype": "text/x-python",
   "name": "python",
   "nbconvert_exporter": "python",
   "pygments_lexer": "ipython3",
   "version": "3.9.13"
  }
 },
 "nbformat": 4,
 "nbformat_minor": 5
}
