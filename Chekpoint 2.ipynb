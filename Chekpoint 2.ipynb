{
 "cells": [
  {
   "cell_type": "code",
   "execution_count": null,
   "id": "f3eea941",
   "metadata": {},
   "outputs": [],
   "source": [
    "#Question 1 \n",
    "liste=[1,2,3,4,5,6,7,8]\n",
    "a=1\n",
    "for i in liste:\n",
    "    a=a*i\n",
    "print(a)"
   ]
  },
  {
   "cell_type": "code",
   "execution_count": 1,
   "id": "2c892f42",
   "metadata": {},
   "outputs": [
    {
     "name": "stdout",
     "output_type": "stream",
     "text": [
      "[(1, 2), (2, 1), (2, 3), (2, 5), (4, 4)]\n"
     ]
    }
   ],
   "source": [
    "#Question 2\n",
    "list2= [(2, 5), (1, 2), (4, 4), (2, 3), (2, 1)]\n",
    "list2.sort()\n",
    "print(list2)"
   ]
  },
  {
   "cell_type": "code",
   "execution_count": null,
   "id": "f0bd1408",
   "metadata": {},
   "outputs": [],
   "source": [
    "#Question 3\n",
    "d1 = {'a': 100, 'b': 200, 'c':300}\n",
    "d2 = {'a': 300, 'b': 300, 'd':400}\n",
    "d3={}\n",
    "for key,value in d1.items():\n",
    "    for key2,value2 in d2.items():\n",
    "        if key==key2:\n",
    "            val3=value+value2\n",
    "            d3[key]=val3\n",
    "            val3=0\n",
    "        elif key != \"a\" and key != \"b\" and key2 != \"a\" and key2 != \"b\":\n",
    "            d3[key]=value\n",
    "            d3[key2]=value2\n",
    "print(d3)            "
   ]
  },
  {
   "cell_type": "code",
   "execution_count": 2,
   "id": "5e1ff928",
   "metadata": {},
   "outputs": [
    {
     "name": "stdout",
     "output_type": "stream",
     "text": [
      "Put a number:5\n",
      "{1: 1, 2: 4, 3: 9, 4: 16, 5: 25}\n"
     ]
    }
   ],
   "source": [
    "#Question 4\n",
    "n=int(input(\"Put a number:\"))\n",
    "dec={}\n",
    "for i in range(1,n+1):\n",
    "    dec[i]=i*i\n",
    "print(dec)"
   ]
  },
  {
   "cell_type": "code",
   "execution_count": null,
   "id": "524998be",
   "metadata": {},
   "outputs": [],
   "source": [
    "#Question 5\n",
    "list= [('item1', '12.20'), ('item2', '15.10'), ('item3', '24.5')]\n",
    "print( sorted(list, key=lambda x: float(x[1]), reverse=True))\n"
   ]
  }
 ],
 "metadata": {
  "kernelspec": {
   "display_name": "Python 3 (ipykernel)",
   "language": "python",
   "name": "python3"
  },
  "language_info": {
   "codemirror_mode": {
    "name": "ipython",
    "version": 3
   },
   "file_extension": ".py",
   "mimetype": "text/x-python",
   "name": "python",
   "nbconvert_exporter": "python",
   "pygments_lexer": "ipython3",
   "version": "3.9.12"
  }
 },
 "nbformat": 4,
 "nbformat_minor": 5
}
