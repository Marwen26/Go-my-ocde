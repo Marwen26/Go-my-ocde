{
 "cells": [
  {
   "cell_type": "code",
   "execution_count": 5,
   "id": "8e3f10dd",
   "metadata": {},
   "outputs": [
    {
     "name": "stdout",
     "output_type": "stream",
     "text": [
      "Enter a number a:9 \n",
      "Enter a number b:9\n",
      "Enter a number c:9\n",
      "The largest betwin 9 , 9 and 9 is: 9\n"
     ]
    }
   ],
   "source": [
    "#Question 1:\n",
    "a=int(input('Enter a number a:'))\n",
    "b=int(input('Enter a number b:'))\n",
    "c=int(input('Enter a number c:'))\n",
    "def Max(a,b,c):\n",
    "    if(a>b)and(a>c):\n",
    "        M=a\n",
    "    elif(b>a)and(b>c):\n",
    "        M=b\n",
    "    else:\n",
    "        M=c\n",
    "    return M\n",
    "print(\"The largest betwin\",a,',',b,'and',c,'is:',Max(a,b,c))"
   ]
  },
  {
   "cell_type": "code",
   "execution_count": null,
   "id": "c7d4da74",
   "metadata": {},
   "outputs": [],
   "source": [
    "#Question 2:\n",
    "a=int(input('Enter a number a:'))\n",
    "b=int(input('Enter a number b:'))\n",
    "def cal(a,b):\n",
    "    add=a+b\n",
    "    sub=a-b\n",
    "    if b>=a:\n",
    "        sub=b-a #To always get a positive result\n",
    "    return add, sub\n",
    "print(cal(a,b))"
   ]
  },
  {
   "cell_type": "code",
   "execution_count": null,
   "id": "48dfdab6",
   "metadata": {},
   "outputs": [],
   "source": [
    "#Question 3:\n",
    "lis=[1,2,8,5,9,4,2,6]\n",
    "S=sum(lis)\n",
    "print(S)\n",
    "def Mul(lis1):\n",
    "    R=1\n",
    "    for x in lis1:\n",
    "        R=R*x\n",
    "    return R\n",
    "print (Mul(lis))"
   ]
  },
  {
   "cell_type": "code",
   "execution_count": null,
   "id": "45da8f09",
   "metadata": {},
   "outputs": [],
   "source": [
    "#Question4 :\n",
    "W=str(input('Enter a list of word separate with escape:'))\n",
    "x=W.split()\n",
    "print(x)\n",
    "Y=x.sort()\n",
    "print(\"list sorted:\",sorted (x))"
   ]
  }
 ],
 "metadata": {
  "kernelspec": {
   "display_name": "Python 3 (ipykernel)",
   "language": "python",
   "name": "python3"
  },
  "language_info": {
   "codemirror_mode": {
    "name": "ipython",
    "version": 3
   },
   "file_extension": ".py",
   "mimetype": "text/x-python",
   "name": "python",
   "nbconvert_exporter": "python",
   "pygments_lexer": "ipython3",
   "version": "3.9.12"
  }
 },
 "nbformat": 4,
 "nbformat_minor": 5
}
