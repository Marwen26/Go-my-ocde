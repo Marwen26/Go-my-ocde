{
 "cells": [
  {
   "cell_type": "code",
   "execution_count": 1,
   "id": "039c11d4",
   "metadata": {},
   "outputs": [],
   "source": [
    "# Importing libraries :\n",
    "\n",
    "import numpy as np\n",
    "import pandas as pd\n",
    "import matplotlib.pyplot as plt\n",
    "\n",
    "from sklearn.model_selection import train_test_split\n",
    "from sklearn.linear_model import LinearRegression\n",
    "from sklearn.preprocessing import PolynomialFeatures \n",
    "\n",
    "from sklearn.metrics import mean_squared_error\n",
    "from sklearn import metrics"
   ]
  },
  {
   "cell_type": "code",
   "execution_count": 2,
   "id": "541ed19e",
   "metadata": {},
   "outputs": [],
   "source": [
    "# Read the CSV file :\n",
    "\n",
    "df = pd.read_csv(\"Houses .csv\")\n",
    "#df.isnull().sum()"
   ]
  },
  {
   "cell_type": "markdown",
   "id": "370582b2",
   "metadata": {},
   "source": [
    "The most important features to predict a house’s price  are  : \"sqft_living\" , \"bedrooms\" ,\"floors\", \"sqft_basement\""
   ]
  },
  {
   "cell_type": "code",
   "execution_count": 3,
   "id": "f3d470b3",
   "metadata": {},
   "outputs": [],
   "source": [
    "# Spleting dataset into a training set and a testing set :\n",
    "\n",
    "f = df[\"sqft_living\"].values.reshape(-1, 1)\n",
    "p = df[\"price\"].values\n",
    "\n",
    "f_train,f_test,p_train,p_test = train_test_split(f,p,test_size = 0.20,random_state = 42)"
   ]
  },
  {
   "cell_type": "code",
   "execution_count": 4,
   "id": "9f9c1153",
   "metadata": {},
   "outputs": [],
   "source": [
    "# Apply linear regression to the training set :\n",
    "\n",
    "model = LinearRegression()\n",
    "model.fit(f_train,p_train)\n",
    "predicted = model.predict(f_test)"
   ]
  },
  {
   "cell_type": "code",
   "execution_count": null,
   "id": "5e0633fc",
   "metadata": {},
   "outputs": [],
   "source": [
    "# Plot the linear regression :\n",
    "\n",
    "plt.scatter(f,p,color=\"r\")\n",
    "plt.plot(f,model.predict(f),color=\"k\")\n",
    "plt.title('Linear Regression of sqft_living vs price')\n",
    "plt.ylabel(\"Price\")\n",
    "plt.xlabel(\"sqft_living\")\n",
    "plt.show()"
   ]
  },
  {
   "cell_type": "code",
   "execution_count": null,
   "id": "5809e687",
   "metadata": {},
   "outputs": [],
   "source": [
    "# Measure the performance of linear regression using the testing set :\n",
    "\n",
    "print(\"MSE\", mean_squared_error(p_test,predicted))\n",
    "print(\"R squared\", metrics.r2_score(p_test,predicted))"
   ]
  },
  {
   "cell_type": "code",
   "execution_count": null,
   "id": "76bc131e",
   "metadata": {},
   "outputs": [],
   "source": [
    "#  Apply multiple-linear regression :\n",
    "\n",
    "a = df[[\"floors\",\"bedrooms\"]]\n",
    "b = df[\"price\"].values\n",
    "\n",
    "a_train,a_test,b_train,b_test = train_test_split(a,b,test_size = 0.20,random_state = 42)\n",
    "\n",
    "model = LinearRegression()\n",
    "model.fit(a_train,b_train)\n",
    "predicted = model.predict(a_test)\n",
    "print(\"MSE\", mean_squared_error(p_test,predicted))\n",
    "print(\"R squared\", metrics.r2_score(p_test,predicted))"
   ]
  },
  {
   "cell_type": "markdown",
   "id": "f8e3e4e5",
   "metadata": {},
   "source": [
    "In the multiple-linear regressionwe we use more than one features (input) to predict the price (output), while in a simple linear regression model, we use only one feature (input) to predict the price (output) ,the multiple-lineat provide better predictions , for that the MSE in the multiple-linear is smaller than the MSE in the simple-linear"
   ]
  },
  {
   "cell_type": "code",
   "execution_count": null,
   "id": "dd5fd697",
   "metadata": {},
   "outputs": [],
   "source": [
    "# Apply polynomial regression :\n",
    "\n",
    "lg=LinearRegression()\n",
    "poly=PolynomialFeatures(degree=3)\n",
    "\n",
    "a_train_fit = poly.fit_transform(a_train) \n",
    "lg.fit(a_train_fit, b_train)\n",
    "a_test_ = poly.fit_transform(a_test)\n",
    "predicted = lg.predict(a_test_)\n",
    "\n",
    "print(\"MSE: \", metrics.mean_squared_error(b_test, predicted))\n",
    "print(\"R squared: \", metrics.r2_score(b_test,predicted))\n"
   ]
  }
 ],
 "metadata": {
  "kernelspec": {
   "display_name": "Python 3 (ipykernel)",
   "language": "python",
   "name": "python3"
  },
  "language_info": {
   "codemirror_mode": {
    "name": "ipython",
    "version": 3
   },
   "file_extension": ".py",
   "mimetype": "text/x-python",
   "name": "python",
   "nbconvert_exporter": "python",
   "pygments_lexer": "ipython3",
   "version": "3.9.13"
  }
 },
 "nbformat": 4,
 "nbformat_minor": 5
}
