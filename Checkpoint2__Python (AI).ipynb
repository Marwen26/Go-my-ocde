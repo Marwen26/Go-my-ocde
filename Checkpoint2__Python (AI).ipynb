{
 "cells": [
  {
   "cell_type": "code",
   "execution_count": null,
   "id": "aa98d2d9",
   "metadata": {},
   "outputs": [],
   "source": [
    "# Question 1 :\n",
    "\n",
    "def divisible  ():\n",
    "    for i in range(2000,3201):\n",
    "        if i % 7 == 0 and i%5 !=0:\n",
    "            liste.append(i)\n",
    "    print(liste)\n",
    "liste = []\n",
    "divisible ()"
   ]
  },
  {
   "cell_type": "code",
   "execution_count": null,
   "id": "bbe5a6d8",
   "metadata": {},
   "outputs": [],
   "source": [
    "# Question 2 :\n",
    "\n",
    "def fact (numb):\n",
    "    if numb == 0:\n",
    "        return 1\n",
    "    return numb * fact(numb-1)\n",
    "    \n",
    "n = input(\"Put number her : \")\n",
    "\n",
    "# To chek if the user put integers or not :\n",
    "if n.isdigit():\n",
    "    n = int(n)\n",
    "    f = fact(n)\n",
    "    print(\"The factorial of\",n ,\"is\",f)\n",
    "else:\n",
    "    print(\"Invalid input, only  integers are allowed.\")"
   ]
  },
  {
   "cell_type": "code",
   "execution_count": null,
   "id": "c97eb91c",
   "metadata": {},
   "outputs": [],
   "source": [
    "# Question 3 :\n",
    "\n",
    "def generate (a):\n",
    "    return {i:i*i for i in range(1,a+1)}\n",
    "n = input(\"Put number her : \")\n",
    "if n.isdigit():\n",
    "    n = int(n)\n",
    "    print(generate(n))\n",
    "else:\n",
    "    print(\"Invalid input, only  integers are allowed.\")"
   ]
  },
  {
   "cell_type": "code",
   "execution_count": null,
   "id": "6ca6475d",
   "metadata": {},
   "outputs": [],
   "source": [
    "# Question 4 :\n",
    "\n",
    "def remove (w,n):\n",
    "    return w[:n]+ w[n+1:]\n",
    "w = str(input(\"Put a word :\"))\n",
    "n = int(input(\"Put a number :\"))\n",
    "# if the user put number bigger than \"lenght of  the word\"\n",
    "if n > len(w):\n",
    "    print(\"Number must be smaller than\",len(w))\n",
    "remove(w,n)"
   ]
  },
  {
   "cell_type": "code",
   "execution_count": null,
   "id": "14581c96",
   "metadata": {},
   "outputs": [],
   "source": [
    "# Question 5 :\n",
    "\n",
    "import numpy as np\n",
    "\n",
    "array = np.array ([[0,1],[2,3],[4,5]])\n",
    "print(\"NumPy array :\")\n",
    "print(array)\n",
    "\n",
    "# conver from numpy array to  list\n",
    "l = array.tolist()\n",
    "print(\"New list :\")\n",
    "print(l)"
   ]
  },
  {
   "cell_type": "code",
   "execution_count": null,
   "id": "ce9a33da",
   "metadata": {},
   "outputs": [],
   "source": [
    "# Question 6 :\n",
    "\n",
    "import numpy as np\n",
    "array_1 = np.array([0,1,2])\n",
    "array_2 = np.array([2,1,0])\n",
    "\n",
    "array_3 = np.cov(array_1,array_2)\n",
    "\n",
    "print(array_3)"
   ]
  },
  {
   "cell_type": "code",
   "execution_count": null,
   "id": "a644b832",
   "metadata": {},
   "outputs": [],
   "source": [
    "# Question 7 :\n",
    "from math import sqrt\n",
    "def form (C,D,H):\n",
    "    return sqrt((2*C*int(D))//H)\n",
    "def cal(D,C,H) :\n",
    "    for i in range (0,len(D)):\n",
    "        print (int((form(C,D[i],H))))\n",
    "   \n",
    "D=input('Enter a list of number:')\n",
    "C=50\n",
    "H=30\n",
    "liste=D.split()\n",
    "D = liste\n",
    "f = False\n",
    "for i in D :\n",
    "    if not i.isdigit():       # Chek if the liste containq only integers or no\n",
    "        print(\"Invalid input, only integers are allowed\")\n",
    "        break\n",
    "    else:\n",
    "        f = True\n",
    "\n",
    "if f == True:\n",
    "    D = [int(x) for x in D]\n",
    "    cal(D,C,H)\n",
    "#  f : to avoide the output repeat    "
   ]
  }
 ],
 "metadata": {
  "kernelspec": {
   "display_name": "Python 3 (ipykernel)",
   "language": "python",
   "name": "python3"
  },
  "language_info": {
   "codemirror_mode": {
    "name": "ipython",
    "version": 3
   },
   "file_extension": ".py",
   "mimetype": "text/x-python",
   "name": "python",
   "nbconvert_exporter": "python",
   "pygments_lexer": "ipython3",
   "version": "3.9.13"
  }
 },
 "nbformat": 4,
 "nbformat_minor": 5
}
