{
 "cells": [
  {
   "cell_type": "code",
   "execution_count": null,
   "id": "3b019dd0",
   "metadata": {},
   "outputs": [],
   "source": [
    "#Cehkpoiunt 4 calsse and object Question 1\n",
    "class Point3D:\n",
    "    def __init__(self,X,Y,Z):\n",
    "        self.X=X\n",
    "        self.Y=Y\n",
    "        self.Z=Z\n",
    "    def Ret(self):\n",
    "        X=1\n",
    "        Y=2\n",
    "        Z=3\n",
    "        T=(X,Y,Z)\n",
    "        print(T)\n",
    "Vari=Point3D('1','2','3')\n",
    "Vari.Ret()"
   ]
  },
  {
   "cell_type": "code",
   "execution_count": 1,
   "id": "5be9c0ac",
   "metadata": {},
   "outputs": [
    {
     "name": "stdout",
     "output_type": "stream",
     "text": [
      "12\n",
      "14\n"
     ]
    }
   ],
   "source": [
    "#Cehkpoiunt 4 calsse and object Question 2\n",
    "class Rectangle:\n",
    "    def __init__(self,length,width):\n",
    "        self.length=length\n",
    "        self.width=width\n",
    "    def area(self):\n",
    "        width=3\n",
    "        length=4\n",
    "        are=width*length\n",
    "        print(are)\n",
    "    def perimeter(self):\n",
    "        width=3\n",
    "        length=4\n",
    "        per=2*(width+length)\n",
    "        print(per)\n",
    "rec=Rectangle('3','4')\n",
    "rec.area()\n",
    "rec.perimeter()"
   ]
  },
  {
   "cell_type": "code",
   "execution_count": null,
   "id": "cd1355a9",
   "metadata": {},
   "outputs": [],
   "source": [
    "#Cehkpoiunt 4 calsse and object Question 3\n",
    "from math import pi\n",
    "class Circle:\n",
    "    def __init__(self,O,R):\n",
    "        self.O=O  #O :Center\n",
    "        self.R=R  #R: radius نصف القطر\n",
    "    def area(self):\n",
    "        R=int(input('Enter the Raduis of the Circle: '))\n",
    "        A=(R*R)*pi\n",
    "        print(\"The area of a circle with reduis\",R,\"=\", A)\n",
    "    def perimeter(self):\n",
    "        R=int(input('Enter the Raduis of the Circle: '))\n",
    "        P=2*R*pi\n",
    "        print(\"The perimeter of a circle with reduis\",R,\"=\",P)\n",
    "    def inside(self):\n",
    "        X=int(input(\"\"))\n",
    "        Y=int(input(\"\"))\n",
    "        if (X-Y)/int(self.R)>int(self.R):\n",
    "            print(\"inside\")\n",
    "        else:\n",
    "            print(\"Outside\")\n",
    "                \n",
    "ci=Circle('50','6')\n",
    "ci.area()\n",
    "ci.perimeter()\n",
    "ci.inside()"
   ]
  },
  {
   "cell_type": "code",
   "execution_count": null,
   "id": "38ec5c56",
   "metadata": {},
   "outputs": [],
   "source": [
    "#Cehkpoiunt 4 calsse and object Question 4\n",
    "A=0\n",
    "class Bank: \n",
    "    def __init__(self,Balance):\n",
    "        self.Balance=Balance\n",
    "    def deposit(self):\n",
    "        global A\n",
    "        D=float(input(\"How match you will diposit in your bank account:\"))\n",
    "        A=D+A\n",
    "        print(\"Your acount has\",A)\n",
    "    def withdraw(self):\n",
    "        global A\n",
    "        W=float(input(\"How match mony you need :\"))\n",
    "        if A>W:\n",
    "            W=A-W\n",
    "            print(W)\n",
    "        else:\n",
    "            print(\"you don't have enough money in your account\")\n",
    "B=Bank(\"5000\")\n",
    "B.deposit()\n",
    "B.withdraw()"
   ]
  }
 ],
 "metadata": {
  "kernelspec": {
   "display_name": "Python 3 (ipykernel)",
   "language": "python",
   "name": "python3"
  },
  "language_info": {
   "codemirror_mode": {
    "name": "ipython",
    "version": 3
   },
   "file_extension": ".py",
   "mimetype": "text/x-python",
   "name": "python",
   "nbconvert_exporter": "python",
   "pygments_lexer": "ipython3",
   "version": "3.9.12"
  }
 },
 "nbformat": 4,
 "nbformat_minor": 5
}
