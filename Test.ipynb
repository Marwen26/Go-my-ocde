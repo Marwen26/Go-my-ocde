{
 "cells": [
  {
   "cell_type": "code",
   "execution_count": null,
   "id": "cf0bb358",
   "metadata": {},
   "outputs": [],
   "source": [
    "# importing libraries:\n",
    "\n",
    "import numpy as np\n",
    "import pandas as pd\n",
    "import matplotlib.pyplot as plt\n",
    "\n",
    "from sklearn.model_selection import train_test_split\n",
    "from sklearn.linear_model import LinearRegression\n",
    "from sklearn.metrics import mean_squared_error\n",
    "from sklearn import metrics"
   ]
  },
  {
   "cell_type": "code",
   "execution_count": null,
   "id": "64a3d9cb",
   "metadata": {},
   "outputs": [],
   "source": [
    "df = pd.read_csv(\"Houses dataset.csv\")\n",
    "df.head()"
   ]
  },
  {
   "cell_type": "code",
   "execution_count": null,
   "id": "99ae02a0",
   "metadata": {},
   "outputs": [],
   "source": [
    "df.isnull().sum()"
   ]
  },
  {
   "cell_type": "markdown",
   "id": "f213a9b4",
   "metadata": {},
   "source": [
    " The most important features to predict a house’s price :\n",
    " \"sqft_living\" , \"bedrooms\" and much more but  gonna work with this two"
   ]
  },
  {
   "cell_type": "code",
   "execution_count": null,
   "id": "96fc996d",
   "metadata": {},
   "outputs": [],
   "source": [
    " # Splitting data : \n",
    "b = df[\"sqft_living\"]\n",
    "p = df[\"price\"].values\n",
    "\n",
    "b_train,b_test,p_train,p_test=train_test_split(b,p,test_size=0.20,random_state=40)"
   ]
  },
  {
   "cell_type": "code",
   "execution_count": null,
   "id": "e6c9626f",
   "metadata": {},
   "outputs": [],
   "source": [
    "m = LinearRegression()   #build linear regression model\n",
    "m.fit(b_train,p_train)  #fitting the training data\n",
    "pr = m.predict(b_test) #testing our model’s performance\n",
    "\n",
    "\n",
    "print(\"MSE\", mean_squared_error(p_test,p))\n",
    "print(\"R squared\", metrics.r2_score(p_test,p))"
   ]
  },
  {
   "cell_type": "code",
   "execution_count": null,
   "id": "0645b85e",
   "metadata": {},
   "outputs": [],
   "source": [
    "plt.scatter(b,p,color=\"r\")\n",
    "plt.title(\"Linear Regression\")\n",
    "plt.ylabel(\"price\")\n",
    "plt.xlabel(\"sqft_living\")\n",
    "plt.plot(b,m.predict(b),color=\"k\")\n",
    "plt.show()"
   ]
  }
 ],
 "metadata": {
  "kernelspec": {
   "display_name": "Python 3 (ipykernel)",
   "language": "python",
   "name": "python3"
  },
  "language_info": {
   "codemirror_mode": {
    "name": "ipython",
    "version": 3
   },
   "file_extension": ".py",
   "mimetype": "text/x-python",
   "name": "python",
   "nbconvert_exporter": "python",
   "pygments_lexer": "ipython3",
   "version": "3.9.13"
  }
 },
 "nbformat": 4,
 "nbformat_minor": 5
}
